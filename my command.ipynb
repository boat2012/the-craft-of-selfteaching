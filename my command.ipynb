{
 "cells": [
  {
   "cell_type": "markdown",
   "metadata": {},
   "source": [
    "## 同步修改的结果\n",
    "\n",
    "在ipynb中可以使用 ! 来招待命令\n",
    "\n",
    "1.使用强制push的方法： \n",
    "`git push -u origin master -f`\n",
    "\n",
    "这样会使远程修改丢失，一般是不可取的，尤其是多人协作开发的时候。\n",
    "\n",
    "2.push前先将远程repository修改pull下来(注：git pull = git fetch + git merge\n",
    "\n",
    "```\n",
    "git pull origin master\n",
    "git push -u origin master3\n",
    "```\n",
    "\n",
    "若不想merge远程和本地修改，可以先创建新的分支：  \n",
    "`git branch name`  \n",
    "然后 push:    \n",
    "`git push -u origin name`"
   ]
  },
  {
   "cell_type": "code",
   "execution_count": 3,
   "metadata": {},
   "outputs": [
    {
     "name": "stdout",
     "output_type": "stream",
     "text": [
      "On branch study\n",
      "Your branch is up to date with 'origin/study'.\n",
      "\n",
      "Changes not staged for commit:\n",
      "  (use \"git add/rm <file>...\" to update what will be committed)\n",
      "  (use \"git checkout -- <file>...\" to discard changes in working directory)\n",
      "\n",
      "\tdeleted:    Part.1.E.5.strings.ipynb\n",
      "\tmodified:   my command.ipynb\n",
      "\n",
      "Untracked files:\n",
      "  (use \"git add <file>...\" to include in what will be committed)\n",
      "\n",
      "\t#Part.1.E.5.strings.ipynb\n",
      "\n",
      "no changes added to commit (use \"git add\" and/or \"git commit -a\")\n"
     ]
    }
   ],
   "source": [
    "!git status"
   ]
  },
  {
   "cell_type": "code",
   "execution_count": 4,
   "metadata": {},
   "outputs": [
    {
     "name": "stderr",
     "output_type": "stream",
     "text": [
      "warning: LF will be replaced by CRLF in my command.ipynb.\n",
      "The file will have its original line endings in your working directory.\n"
     ]
    },
    {
     "name": "stdout",
     "output_type": "stream",
     "text": [
      "[study 09aa422] 20190417\n",
      " 2 files changed, 110 insertions(+), 131 deletions(-)\n",
      " rename Part.1.E.5.strings.ipynb => #Part.1.E.5.strings.ipynb (100%)\n",
      " rewrite my command.ipynb (85%)\n"
     ]
    },
    {
     "name": "stderr",
     "output_type": "stream",
     "text": [
      "To https://github.com/boat2012/the-craft-of-selfteaching.git\n",
      "   173c356..09aa422  study -> study\n"
     ]
    }
   ],
   "source": [
    "!git add .\n",
    "!git commit -am \"20190417\"\n",
    "!git push"
   ]
  },
  {
   "cell_type": "markdown",
   "metadata": {},
   "source": [
    "### git pull\n",
    "**基本用法**\n",
    ">git pull <远程主机名> <远程分支名>:<本地分支名>\n",
    "\n",
    "例如执行下面语句：\n",
    "\n",
    "> git pull origin master:brantest\n",
    "\n",
    "将远程主机origin的master分支拉取过来，与本地的brantest分支合并。\n",
    "后面的冒号可以省略：\n",
    "\n",
    ">git pull origin master\n",
    "\n",
    "表示将远程origin主机的master分支拉取过来和本地的当前分支进行合并。\n",
    "上面的pull操作用fetch表示为：\n",
    "\n",
    ">git fetch origin master:brantest\n",
    ">git merge brantest\n",
    "\n",
    "相比起来git fetch更安全一些，因为在merge前，我们可以查看更新情况，然后再决定是否合并。"
   ]
  },
  {
   "cell_type": "code",
   "execution_count": null,
   "metadata": {},
   "outputs": [],
   "source": []
  }
 ],
 "metadata": {
  "kernelspec": {
   "display_name": "Python 3",
   "language": "python",
   "name": "python3"
  },
  "language_info": {
   "codemirror_mode": {
    "name": "ipython",
    "version": 3
   },
   "file_extension": ".py",
   "mimetype": "text/x-python",
   "name": "python",
   "nbconvert_exporter": "python",
   "pygments_lexer": "ipython3",
   "version": "3.6.5"
  }
 },
 "nbformat": 4,
 "nbformat_minor": 2
}
