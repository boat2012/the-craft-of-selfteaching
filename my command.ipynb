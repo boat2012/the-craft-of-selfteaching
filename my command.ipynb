{
 "cells": [
  {
   "cell_type": "markdown",
   "metadata": {},
   "source": [
    "## 同步修改的结果\n",
    "\n",
    "在ipynb中可以使用 ! 来招待命令"
   ]
  },
  {
   "cell_type": "code",
   "execution_count": 1,
   "metadata": {},
   "outputs": [
    {
     "name": "stdout",
     "output_type": "stream",
     "text": [
      " 驱动器 C 中的卷是 Windows\n",
      " 卷的序列号是 7418-7312\n",
      "\n",
      " C:\\Users\\boat1\\Documents\\Code\\the-craft-of-selfteaching 的目录\n",
      "\n",
      "2019/04/17  08:09    <DIR>          .\n",
      "2019/04/17  08:09    <DIR>          ..\n",
      "2019/04/16  09:37            11,534 #Part.1.C.must.learn.sth.only.by.reading.ipynb\n",
      "2019/04/16  09:39             6,807 #Part.1.D.preparation.for.reading.ipynb\n",
      "2019/04/16  14:48            34,555 #Part.1.E.1.entrance.ipynb\n",
      "2019/04/16  09:47            29,028 #Part.1.F.deal-with-forward-references.ipynb\n",
      "2019/04/16  08:03               136 .gitignore\n",
      "2019/04/17  08:09    <DIR>          .ipynb_checkpoints\n",
      "2019/04/16  08:03             6,876 00.cover.ipynb\n",
      "2019/04/16  08:03            16,125 01.preface.ipynb\n",
      "2019/04/16  08:16            14,345 02.proof-of-work.ipynb\n",
      "2019/04/16  08:03    <DIR>          from-readers\n",
      "2019/04/16  08:03               285 hdi-china-1870-2015.txt\n",
      "2019/04/16  08:03    <DIR>          images\n",
      "2019/04/16  08:03               794 life-expectancy-china-1960-2016.txt\n",
      "2019/04/16  08:03    <DIR>          markdown\n",
      "2019/04/16  08:43               999 my appendix.ipynb\n",
      "2019/04/16  08:03    <DIR>          my-notes\n",
      "2019/04/16  08:03               787 mycode.py\n",
      "2019/04/16  08:16            88,962 Part.1.A.better.teachyourself.ipynb\n",
      "2019/04/16  08:44            16,288 Part.1.B.why.start.from.learning.coding.ipynb\n",
      "2019/04/16  17:40            38,135 Part.1.E.2.values-and-their-operators.ipynb\n",
      "2019/04/16  08:03            37,606 Part.1.E.3.controlflow.ipynb\n",
      "2019/04/16  08:03            22,734 Part.1.E.4.functions.ipynb\n",
      "2019/04/16  08:03            78,902 Part.1.E.5.strings.ipynb\n",
      "2019/04/16  08:03            83,951 Part.1.E.6.containers.ipynb\n",
      "2019/04/16  08:03           180,388 Part.1.E.7.files.ipynb\n",
      "2019/04/16  08:03            15,605 Part.1.G.The-Python-Tutorial-local.ipynb\n",
      "2019/04/16  08:03            14,050 Part.2.A.clumsy-and-patience.ipynb\n",
      "2019/04/16  08:03             9,198 Part.2.B.deliberate-practicing.ipynb\n",
      "2019/04/16  08:03             8,417 Part.2.C.why-start-from-writing-functions.ipynb\n",
      "2019/04/16  08:03            16,291 Part.2.D.1-args.ipynb\n",
      "2019/04/16  08:03            15,433 Part.2.D.2-aargs.ipynb\n",
      "2019/04/16  08:03            14,592 Part.2.D.3-lambda.ipynb\n",
      "2019/04/16  08:03            24,455 Part.2.D.4-recursion.ipynb\n",
      "2019/04/16  08:03            12,343 Part.2.D.5-docstrings.ipynb\n",
      "2019/04/16  08:03            19,842 Part.2.D.6-modules.ipynb\n",
      "2019/04/16  08:03            22,618 Part.2.D.7-tdd.ipynb\n",
      "2019/04/16  08:03            15,769 Part.2.D.8-main.ipynb\n",
      "2019/04/16  08:03             7,965 Part.2.E.deliberate-thinking.ipynb\n",
      "2019/04/16  08:03             8,221 Part.3.A.conquering-difficulties.ipynb\n",
      "2019/04/16  08:03            10,413 Part.3.B.1.classes-1.ipynb\n",
      "2019/04/16  08:03            35,358 Part.3.B.2.classes-2.ipynb\n",
      "2019/04/16  08:03            29,394 Part.3.B.3.decorator-iterator-generator.ipynb\n",
      "2019/04/16  08:03            67,236 Part.3.B.4.regex.ipynb\n",
      "2019/04/16  08:03            22,063 Part.3.B.5.bnf-ebnf-pebnf.ipynb\n",
      "2019/04/16  08:03            16,919 Part.3.C.breaking-good-and-bad.ipynb\n",
      "2019/04/16  08:03            18,935 Part.3.D.indispensable-illusion.ipynb\n",
      "2019/04/16  08:03            18,235 Part.3.E.to-be-thorough.ipynb\n",
      "2019/04/16  08:03            15,981 Part.3.F.social-selfteaching.ipynb\n",
      "2019/04/16  08:03             8,159 Part.3.G.the-golden-age-and-google.ipynb\n",
      "2019/04/16  08:03             8,681 Part.3.H.prevent-focus-drifting.ipynb\n",
      "2019/04/16  08:03            24,962 Q.good-communiation.ipynb\n",
      "2019/04/16  08:03            16,989 R.finale.ipynb\n",
      "2019/04/16  08:03             5,960 README.md\n",
      "2019/04/16  08:03               964 regex-target-text-sample.txt\n",
      "2019/04/16  08:03            40,323 results.txt\n",
      "2019/04/16  08:03             6,792 S.whats-next.ipynb\n",
      "2019/04/16  08:03           164,892 symbols.numbers\n",
      "2019/04/16  08:03             5,376 T-appendix.editor.vscode.ipynb\n",
      "2019/04/16  08:03            12,807 T-appendix.git-introduction.ipynb\n",
      "2019/04/16  08:03            25,743 T-appendix.jupyter-installation-and-setup.ipynb\n",
      "2019/04/16  08:03             3,330 T-appendix.symbols.ipynb\n",
      "2019/04/16  08:03                 0 test-file.txt\n",
      "2019/04/16  08:03             1,186 that.py\n",
      "2019/04/17  08:09                72 Untitled.ipynb\n",
      "2019/04/16  08:03         4,234,904 words_alpha.txt\n",
      "              60 个文件      5,669,710 字节\n",
      "               7 个目录 42,670,202,880 可用字节\n"
     ]
    }
   ],
   "source": [
    "!dir"
   ]
  },
  {
   "cell_type": "code",
   "execution_count": null,
   "metadata": {},
   "outputs": [],
   "source": []
  }
 ],
 "metadata": {
  "kernelspec": {
   "display_name": "Python 3",
   "language": "python",
   "name": "python3"
  },
  "language_info": {
   "codemirror_mode": {
    "name": "ipython",
    "version": 3
   },
   "file_extension": ".py",
   "mimetype": "text/x-python",
   "name": "python",
   "nbconvert_exporter": "python",
   "pygments_lexer": "ipython3",
   "version": "3.6.5"
  }
 },
 "nbformat": 4,
 "nbformat_minor": 2
}
