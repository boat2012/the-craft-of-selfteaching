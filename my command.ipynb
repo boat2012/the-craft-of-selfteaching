{
 "cells": [
  {
   "cell_type": "markdown",
   "metadata": {},
   "source": [
    "## 同步修改的结果\n",
    "\n",
    "在ipynb中可以使用 ! 来招待命令\n",
    "\n",
    "1.使用强制push的方法： \n",
    "`git push -u origin master -f`\n",
    "\n",
    "这样会使远程修改丢失，一般是不可取的，尤其是多人协作开发的时候。\n",
    "\n",
    "2.push前先将远程repository修改pull下来(注：git pull = git fetch + git merge\n",
    "\n",
    "```\n",
    "git pull origin master\n",
    "git push -u origin master3\n",
    "```\n",
    "\n",
    "若不想merge远程和本地修改，可以先创建新的分支：  \n",
    "`git branch name`  \n",
    "然后 push:    \n",
    "`git push -u origin name`"
   ]
  },
  {
   "cell_type": "code",
   "execution_count": 3,
   "metadata": {},
   "outputs": [
    {
     "name": "stdout",
     "output_type": "stream",
     "text": [
      "On branch study\n",
      "Your branch is up to date with 'origin/study'.\n",
      "\n",
      "Changes not staged for commit:\n",
      "  (use \"git add/rm <file>...\" to update what will be committed)\n",
      "  (use \"git checkout -- <file>...\" to discard changes in working directory)\n",
      "\n",
      "\tdeleted:    Part.1.E.5.strings.ipynb\n",
      "\tmodified:   my command.ipynb\n",
      "\n",
      "Untracked files:\n",
      "  (use \"git add <file>...\" to include in what will be committed)\n",
      "\n",
      "\t#Part.1.E.5.strings.ipynb\n",
      "\n",
      "no changes added to commit (use \"git add\" and/or \"git commit -a\")\n"
     ]
    }
   ],
   "source": [
    "!git status"
   ]
  },
  {
   "cell_type": "code",
   "execution_count": 13,
   "metadata": {},
   "outputs": [
    {
     "name": "stdout",
     "output_type": "stream",
     "text": [
      "On branch study\n",
      "Your branch is up to date with 'origin/study'.\n",
      "\n",
      "Changes not staged for commit:\n",
      "  (use \"git add/rm <file>...\" to update what will be committed)\n",
      "  (use \"git checkout -- <file>...\" to discard changes in working directory)\n",
      "\n",
      "\tmodified:   00.cover.ipynb\n",
      "\tdeleted:    Part.2.D.7-tdd.ipynb\n",
      "\tdeleted:    Part.2.D.8-main.ipynb\n",
      "\tdeleted:    Part.2.E.deliberate-thinking.ipynb\n",
      "\tdeleted:    Part.3.A.conquering-difficulties.ipynb\n",
      "\tdeleted:    Part.3.B.1.classes-1.ipynb\n",
      "\tdeleted:    Part.3.B.2.classes-2.ipynb\n",
      "\tmodified:   Part.3.B.3.decorator-iterator-generator.ipynb\n",
      "\tmodified:   my command.ipynb\n",
      "\n",
      "Untracked files:\n",
      "  (use \"git add <file>...\" to include in what will be committed)\n",
      "\n",
      "\t#Part.2.D.7-tdd.ipynb\n",
      "\t#Part.2.D.8-main.ipynb\n",
      "\t#Part.2.E.deliberate-thinking.ipynb\n",
      "\t#Part.3.A.conquering-difficulties.ipynb\n",
      "\t#Part.3.B.1.classes-1.ipynb\n",
      "\t#Part.3.B.2.classes-2.ipynb\n",
      "\n",
      "no changes added to commit (use \"git add\" and/or \"git commit -a\")\n",
      "[study c7487c8] 20190417\n",
      " 9 files changed, 188 insertions(+), 54 deletions(-)\n",
      " rename Part.2.D.7-tdd.ipynb => #Part.2.D.7-tdd.ipynb (98%)\n",
      " rename Part.2.D.8-main.ipynb => #Part.2.D.8-main.ipynb (98%)\n",
      " rename Part.2.E.deliberate-thinking.ipynb => #Part.2.E.deliberate-thinking.ipynb (96%)\n",
      " rename Part.3.A.conquering-difficulties.ipynb => #Part.3.A.conquering-difficulties.ipynb (96%)\n",
      " rename Part.3.B.1.classes-1.ipynb => #Part.3.B.1.classes-1.ipynb (97%)\n",
      " rename Part.3.B.2.classes-2.ipynb => #Part.3.B.2.classes-2.ipynb (96%)\n"
     ]
    },
    {
     "name": "stderr",
     "output_type": "stream",
     "text": [
      "To https://github.com/boat2012/the-craft-of-selfteaching.git\n",
      "   a13d52d..c7487c8  study -> study\n"
     ]
    }
   ],
   "source": [
    "!git status\n",
    "!git add .\n",
    "!git commit -am \"20190417\"\n",
    "!git push"
   ]
  },
  {
   "cell_type": "markdown",
   "metadata": {},
   "source": [
    "### git pull\n",
    "**基本用法**\n",
    ">git pull <远程主机名> <远程分支名>:<本地分支名>\n",
    "\n",
    "例如执行下面语句：\n",
    "\n",
    "> git pull origin master:brantest\n",
    "\n",
    "将远程主机origin的master分支拉取过来，与本地的brantest分支合并。\n",
    "后面的冒号可以省略：\n",
    "\n",
    ">git pull origin master\n",
    "\n",
    "表示将远程origin主机的master分支拉取过来和本地的当前分支进行合并。\n",
    "上面的pull操作用fetch表示为：\n",
    "\n",
    ">git fetch origin master:brantest\n",
    ">git merge brantest\n",
    "\n",
    "相比起来git fetch更安全一些，因为在merge前，我们可以查看更新情况，然后再决定是否合并。"
   ]
  },
  {
   "cell_type": "code",
   "execution_count": 5,
   "metadata": {},
   "outputs": [],
   "source": [
    "# 如果你是 Windows 程序员，且正在开发仅运行在 Windows 上的项目，\n",
    "# 可以设置 false 取消此功能，把回车保留在版本库中：\n",
    "# 自定义 Git - 配置 Git https://git-scm.com/book/zh/v2/%E8%87%AA%E5%AE%9A%E4%B9%89-Git-%E9%85%8D%E7%BD%AE-Git\n",
    "!git config --global core.autocrlf false"
   ]
  },
  {
   "cell_type": "code",
   "execution_count": null,
   "metadata": {},
   "outputs": [],
   "source": []
  }
 ],
 "metadata": {
  "kernelspec": {
   "display_name": "Python 3",
   "language": "python",
   "name": "python3"
  },
  "language_info": {
   "codemirror_mode": {
    "name": "ipython",
    "version": 3
   },
   "file_extension": ".py",
   "mimetype": "text/x-python",
   "name": "python",
   "nbconvert_exporter": "python",
   "pygments_lexer": "ipython3",
   "version": "3.6.5"
  }
 },
 "nbformat": 4,
 "nbformat_minor": 2
}
